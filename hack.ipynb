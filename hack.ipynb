{
  "nbformat": 4,
  "nbformat_minor": 0,
  "metadata": {
    "colab": {
      "provenance": [],
      "authorship_tag": "ABX9TyMbHG+QxBW8mqHVZc4x7oT7",
      "include_colab_link": true
    },
    "kernelspec": {
      "name": "python3",
      "display_name": "Python 3"
    },
    "language_info": {
      "name": "python"
    }
  },
  "cells": [
    {
      "cell_type": "markdown",
      "metadata": {
        "id": "view-in-github",
        "colab_type": "text"
      },
      "source": [
        "<a href=\"https://colab.research.google.com/github/chutkm/bronmesta/blob/main/hack.ipynb\" target=\"_parent\"><img src=\"https://colab.research.google.com/assets/colab-badge.svg\" alt=\"Open In Colab\"/></a>"
      ]
    },
    {
      "cell_type": "code",
      "execution_count": null,
      "metadata": {
        "id": "FO1uTlKOOcd6"
      },
      "outputs": [],
      "source": [
        "meow"
      ]
    },
    {
      "cell_type": "code",
      "source": [
        "всем восставшим из пепла привет"
      ],
      "metadata": {
        "id": "qIU_QGkKPLKG"
      },
      "execution_count": null,
      "outputs": []
    }
  ]
}